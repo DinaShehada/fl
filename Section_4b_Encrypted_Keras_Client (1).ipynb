{
  "nbformat": 4,
  "nbformat_minor": 0,
  "metadata": {
    "kernelspec": {
      "display_name": "Python 3",
      "language": "python",
      "name": "python3"
    },
    "language_info": {
      "codemirror_mode": {
        "name": "ipython",
        "version": 3
      },
      "file_extension": ".py",
      "mimetype": "text/x-python",
      "name": "python",
      "nbconvert_exporter": "python",
      "pygments_lexer": "ipython3",
      "version": "3.6.8"
    },
    "colab": {
      "name": "Section 4b - Encrypted Keras Client.ipynb",
      "version": "0.3.2",
      "provenance": []
    }
  },
  "cells": [
    {
      "cell_type": "markdown",
      "metadata": {
        "id": "swud1891xAcK",
        "colab_type": "text"
      },
      "source": [
        "# Step 2: Private Prediction using Syft Keras - Serving (Client)\n",
        "\n",
        "_Demo Ref: https://github.com/OpenMined/PySyft/tree/dev/examples/tutorials_\n",
        "\n",
        "Congratulations! After training your model with normal Keras and securing it with Syft Keras, you are ready to request some private predictions. "
      ]
    },
    {
      "cell_type": "code",
      "metadata": {
        "id": "MJ5Js1JR0fbq",
        "colab_type": "code",
        "colab": {
          "base_uri": "https://localhost:8080/",
          "height": 1000
        },
        "outputId": "9b0b5a57-208e-4af8-a77a-c6e39ec91b0e"
      },
      "source": [
        "pip install syft"
      ],
      "execution_count": 3,
      "outputs": [
        {
          "output_type": "stream",
          "text": [
            "Collecting syft\n",
            "\u001b[?25l  Downloading https://files.pythonhosted.org/packages/41/ff/cbde877f0eaa397c56fed4b73d57c04ef07cf368df6cc10e75eda479f56e/syft-0.1.24a1-py3-none-any.whl (284kB)\n",
            "\r\u001b[K     |█▏                              | 10kB 13.0MB/s eta 0:00:01\r\u001b[K     |██▎                             | 20kB 1.7MB/s eta 0:00:01\r\u001b[K     |███▌                            | 30kB 2.6MB/s eta 0:00:01\r\u001b[K     |████▋                           | 40kB 1.7MB/s eta 0:00:01\r\u001b[K     |█████▊                          | 51kB 2.1MB/s eta 0:00:01\r\u001b[K     |███████                         | 61kB 2.5MB/s eta 0:00:01\r\u001b[K     |████████                        | 71kB 2.9MB/s eta 0:00:01\r\u001b[K     |█████████▏                      | 81kB 3.2MB/s eta 0:00:01\r\u001b[K     |██████████▍                     | 92kB 3.6MB/s eta 0:00:01\r\u001b[K     |███████████▌                    | 102kB 2.8MB/s eta 0:00:01\r\u001b[K     |████████████▊                   | 112kB 2.8MB/s eta 0:00:01\r\u001b[K     |█████████████▉                  | 122kB 2.8MB/s eta 0:00:01\r\u001b[K     |███████████████                 | 133kB 2.8MB/s eta 0:00:01\r\u001b[K     |████████████████▏               | 143kB 2.8MB/s eta 0:00:01\r\u001b[K     |█████████████████▎              | 153kB 2.8MB/s eta 0:00:01\r\u001b[K     |██████████████████▍             | 163kB 2.8MB/s eta 0:00:01\r\u001b[K     |███████████████████▋            | 174kB 2.8MB/s eta 0:00:01\r\u001b[K     |████████████████████▊           | 184kB 2.8MB/s eta 0:00:01\r\u001b[K     |█████████████████████▉          | 194kB 2.8MB/s eta 0:00:01\r\u001b[K     |███████████████████████         | 204kB 2.8MB/s eta 0:00:01\r\u001b[K     |████████████████████████▏       | 215kB 2.8MB/s eta 0:00:01\r\u001b[K     |█████████████████████████▍      | 225kB 2.8MB/s eta 0:00:01\r\u001b[K     |██████████████████████████▌     | 235kB 2.8MB/s eta 0:00:01\r\u001b[K     |███████████████████████████▋    | 245kB 2.8MB/s eta 0:00:01\r\u001b[K     |████████████████████████████▉   | 256kB 2.8MB/s eta 0:00:01\r\u001b[K     |██████████████████████████████  | 266kB 2.8MB/s eta 0:00:01\r\u001b[K     |███████████████████████████████ | 276kB 2.8MB/s eta 0:00:01\r\u001b[K     |████████████████████████████████| 286kB 2.8MB/s \n",
            "\u001b[?25hCollecting msgpack>=0.6.1 (from syft)\n",
            "\u001b[?25l  Downloading https://files.pythonhosted.org/packages/92/7e/ae9e91c1bb8d846efafd1f353476e3fd7309778b582d2fb4cea4cc15b9a2/msgpack-0.6.1-cp36-cp36m-manylinux1_x86_64.whl (248kB)\n",
            "\r\u001b[K     |█▎                              | 10kB 14.9MB/s eta 0:00:01\r\u001b[K     |██▋                             | 20kB 21.7MB/s eta 0:00:01\r\u001b[K     |████                            | 30kB 28.4MB/s eta 0:00:01\r\u001b[K     |█████▎                          | 40kB 33.5MB/s eta 0:00:01\r\u001b[K     |██████▋                         | 51kB 36.7MB/s eta 0:00:01\r\u001b[K     |████████                        | 61kB 40.7MB/s eta 0:00:01\r\u001b[K     |█████████▏                      | 71kB 43.2MB/s eta 0:00:01\r\u001b[K     |██████████▌                     | 81kB 45.0MB/s eta 0:00:01\r\u001b[K     |███████████▉                    | 92kB 47.6MB/s eta 0:00:01\r\u001b[K     |█████████████▏                  | 102kB 49.8MB/s eta 0:00:01\r\u001b[K     |██████████████▌                 | 112kB 49.8MB/s eta 0:00:01\r\u001b[K     |███████████████▉                | 122kB 49.8MB/s eta 0:00:01\r\u001b[K     |█████████████████▏              | 133kB 49.8MB/s eta 0:00:01\r\u001b[K     |██████████████████▍             | 143kB 49.8MB/s eta 0:00:01\r\u001b[K     |███████████████████▊            | 153kB 49.8MB/s eta 0:00:01\r\u001b[K     |█████████████████████           | 163kB 49.8MB/s eta 0:00:01\r\u001b[K     |██████████████████████▍         | 174kB 49.8MB/s eta 0:00:01\r\u001b[K     |███████████████████████▊        | 184kB 49.8MB/s eta 0:00:01\r\u001b[K     |█████████████████████████       | 194kB 49.8MB/s eta 0:00:01\r\u001b[K     |██████████████████████████▍     | 204kB 49.8MB/s eta 0:00:01\r\u001b[K     |███████████████████████████▋    | 215kB 49.8MB/s eta 0:00:01\r\u001b[K     |█████████████████████████████   | 225kB 49.8MB/s eta 0:00:01\r\u001b[K     |██████████████████████████████▎ | 235kB 49.8MB/s eta 0:00:01\r\u001b[K     |███████████████████████████████▋| 245kB 49.8MB/s eta 0:00:01\r\u001b[K     |████████████████████████████████| 256kB 49.8MB/s \n",
            "\u001b[?25hRequirement already satisfied: scikit-learn>=0.21.0 in /usr/local/lib/python3.6/dist-packages (from syft) (0.21.3)\n",
            "Collecting flask-socketio>=3.3.2 (from syft)\n",
            "  Downloading https://files.pythonhosted.org/packages/66/44/edc4715af85671b943c18ac8345d0207972284a0cd630126ff5251faa08b/Flask_SocketIO-4.2.1-py2.py3-none-any.whl\n",
            "Requirement already satisfied: tblib>=1.4.0 in /usr/local/lib/python3.6/dist-packages (from syft) (1.4.0)\n",
            "Requirement already satisfied: Flask>=1.0.2 in /usr/local/lib/python3.6/dist-packages (from syft) (1.1.1)\n",
            "Collecting websocket-client>=0.56.0 (from syft)\n",
            "\u001b[?25l  Downloading https://files.pythonhosted.org/packages/29/19/44753eab1fdb50770ac69605527e8859468f3c0fd7dc5a76dd9c4dbd7906/websocket_client-0.56.0-py2.py3-none-any.whl (200kB)\n",
            "\r\u001b[K     |█▋                              | 10kB 15.8MB/s eta 0:00:01\r\u001b[K     |███▎                            | 20kB 23.9MB/s eta 0:00:01\r\u001b[K     |█████                           | 30kB 30.0MB/s eta 0:00:01\r\u001b[K     |██████▌                         | 40kB 35.3MB/s eta 0:00:01\r\u001b[K     |████████▏                       | 51kB 39.2MB/s eta 0:00:01\r\u001b[K     |█████████▉                      | 61kB 43.5MB/s eta 0:00:01\r\u001b[K     |███████████▍                    | 71kB 46.3MB/s eta 0:00:01\r\u001b[K     |█████████████                   | 81kB 47.7MB/s eta 0:00:01\r\u001b[K     |██████████████▊                 | 92kB 50.1MB/s eta 0:00:01\r\u001b[K     |████████████████▍               | 102kB 51.7MB/s eta 0:00:01\r\u001b[K     |██████████████████              | 112kB 51.7MB/s eta 0:00:01\r\u001b[K     |███████████████████▋            | 122kB 51.7MB/s eta 0:00:01\r\u001b[K     |█████████████████████▎          | 133kB 51.7MB/s eta 0:00:01\r\u001b[K     |██████████████████████▉         | 143kB 51.7MB/s eta 0:00:01\r\u001b[K     |████████████████████████▌       | 153kB 51.7MB/s eta 0:00:01\r\u001b[K     |██████████████████████████▏     | 163kB 51.7MB/s eta 0:00:01\r\u001b[K     |███████████████████████████▊    | 174kB 51.7MB/s eta 0:00:01\r\u001b[K     |█████████████████████████████▍  | 184kB 51.7MB/s eta 0:00:01\r\u001b[K     |███████████████████████████████ | 194kB 51.7MB/s eta 0:00:01\r\u001b[K     |████████████████████████████████| 204kB 51.7MB/s \n",
            "\u001b[?25hCollecting tf-encrypted!=0.5.7,>=0.5.4 (from syft)\n",
            "\u001b[?25l  Downloading https://files.pythonhosted.org/packages/1f/82/cf15aeac92525da2f794956712e7ebf418819390dec783430ee242b52d0b/tf_encrypted-0.5.8-py3-none-manylinux1_x86_64.whl (2.1MB)\n",
            "\u001b[K     |████████████████████████████████| 2.1MB 52.1MB/s \n",
            "\u001b[?25hRequirement already satisfied: torch==1.1 in /usr/local/lib/python3.6/dist-packages (from syft) (1.1.0)\n",
            "Requirement already satisfied: torchvision==0.3.0 in /usr/local/lib/python3.6/dist-packages (from syft) (0.3.0)\n",
            "Collecting websockets>=7.0 (from syft)\n",
            "\u001b[?25l  Downloading https://files.pythonhosted.org/packages/f0/4b/ad228451b1c071c5c52616b7d4298ebcfcac5ae8515ede959db19e4cd56d/websockets-8.0.2-cp36-cp36m-manylinux1_x86_64.whl (72kB)\n",
            "\u001b[K     |████████████████████████████████| 81kB 27.8MB/s \n",
            "\u001b[?25hCollecting zstd>=1.4.0.0 (from syft)\n",
            "\u001b[?25l  Downloading https://files.pythonhosted.org/packages/22/37/6a7ba746ebddbd6cd06de84367515d6bc239acd94fb3e0b1c85788176ca2/zstd-1.4.1.0.tar.gz (454kB)\n",
            "\u001b[K     |████████████████████████████████| 460kB 46.4MB/s \n",
            "\u001b[?25hRequirement already satisfied: numpy>=1.14.0 in /usr/local/lib/python3.6/dist-packages (from syft) (1.16.4)\n",
            "Collecting lz4>=2.1.6 (from syft)\n",
            "\u001b[?25l  Downloading https://files.pythonhosted.org/packages/0a/c6/96bbb3525a63ebc53ea700cc7d37ab9045542d33b4d262d0f0408ad9bbf2/lz4-2.1.10-cp36-cp36m-manylinux1_x86_64.whl (385kB)\n",
            "\u001b[K     |████████████████████████████████| 389kB 49.0MB/s \n",
            "\u001b[?25hRequirement already satisfied: joblib>=0.11 in /usr/local/lib/python3.6/dist-packages (from scikit-learn>=0.21.0->syft) (0.13.2)\n",
            "Requirement already satisfied: scipy>=0.17.0 in /usr/local/lib/python3.6/dist-packages (from scikit-learn>=0.21.0->syft) (1.3.1)\n",
            "Collecting python-socketio>=4.3.0 (from flask-socketio>=3.3.2->syft)\n",
            "\u001b[?25l  Downloading https://files.pythonhosted.org/packages/35/b0/22c3f785f23fec5c7a815f47c55d7e7946a67ae2129ff604148e939d3bdb/python_socketio-4.3.1-py2.py3-none-any.whl (49kB)\n",
            "\u001b[K     |████████████████████████████████| 51kB 17.9MB/s \n",
            "\u001b[?25hRequirement already satisfied: Jinja2>=2.10.1 in /usr/local/lib/python3.6/dist-packages (from Flask>=1.0.2->syft) (2.10.1)\n",
            "Requirement already satisfied: itsdangerous>=0.24 in /usr/local/lib/python3.6/dist-packages (from Flask>=1.0.2->syft) (1.1.0)\n",
            "Requirement already satisfied: click>=5.1 in /usr/local/lib/python3.6/dist-packages (from Flask>=1.0.2->syft) (7.0)\n",
            "Requirement already satisfied: Werkzeug>=0.15 in /usr/local/lib/python3.6/dist-packages (from Flask>=1.0.2->syft) (0.15.5)\n",
            "Requirement already satisfied: six in /usr/local/lib/python3.6/dist-packages (from websocket-client>=0.56.0->syft) (1.12.0)\n",
            "Requirement already satisfied: tensorflow<2,>=1.12.0 in /usr/local/lib/python3.6/dist-packages (from tf-encrypted!=0.5.7,>=0.5.4->syft) (1.14.0)\n",
            "Collecting pyyaml>=5.1 (from tf-encrypted!=0.5.7,>=0.5.4->syft)\n",
            "\u001b[?25l  Downloading https://files.pythonhosted.org/packages/e3/e8/b3212641ee2718d556df0f23f78de8303f068fe29cdaa7a91018849582fe/PyYAML-5.1.2.tar.gz (265kB)\n",
            "\u001b[K     |████████████████████████████████| 266kB 52.1MB/s \n",
            "\u001b[?25hRequirement already satisfied: pillow>=4.1.1 in /usr/local/lib/python3.6/dist-packages (from torchvision==0.3.0->syft) (4.3.0)\n",
            "Collecting python-engineio>=3.9.0 (from python-socketio>=4.3.0->flask-socketio>=3.3.2->syft)\n",
            "\u001b[?25l  Downloading https://files.pythonhosted.org/packages/2b/20/8e3ba16102ae2e245d70d9cb9fa48b076253fdb036dc43eea142294c2897/python_engineio-3.9.3-py2.py3-none-any.whl (119kB)\n",
            "\u001b[K     |████████████████████████████████| 122kB 47.7MB/s \n",
            "\u001b[?25hRequirement already satisfied: MarkupSafe>=0.23 in /usr/local/lib/python3.6/dist-packages (from Jinja2>=2.10.1->Flask>=1.0.2->syft) (1.1.1)\n",
            "Requirement already satisfied: grpcio>=1.8.6 in /usr/local/lib/python3.6/dist-packages (from tensorflow<2,>=1.12.0->tf-encrypted!=0.5.7,>=0.5.4->syft) (1.15.0)\n",
            "Requirement already satisfied: absl-py>=0.7.0 in /usr/local/lib/python3.6/dist-packages (from tensorflow<2,>=1.12.0->tf-encrypted!=0.5.7,>=0.5.4->syft) (0.7.1)\n",
            "Requirement already satisfied: protobuf>=3.6.1 in /usr/local/lib/python3.6/dist-packages (from tensorflow<2,>=1.12.0->tf-encrypted!=0.5.7,>=0.5.4->syft) (3.7.1)\n",
            "Requirement already satisfied: google-pasta>=0.1.6 in /usr/local/lib/python3.6/dist-packages (from tensorflow<2,>=1.12.0->tf-encrypted!=0.5.7,>=0.5.4->syft) (0.1.7)\n",
            "Requirement already satisfied: gast>=0.2.0 in /usr/local/lib/python3.6/dist-packages (from tensorflow<2,>=1.12.0->tf-encrypted!=0.5.7,>=0.5.4->syft) (0.2.2)\n",
            "Requirement already satisfied: astor>=0.6.0 in /usr/local/lib/python3.6/dist-packages (from tensorflow<2,>=1.12.0->tf-encrypted!=0.5.7,>=0.5.4->syft) (0.8.0)\n",
            "Requirement already satisfied: keras-applications>=1.0.6 in /usr/local/lib/python3.6/dist-packages (from tensorflow<2,>=1.12.0->tf-encrypted!=0.5.7,>=0.5.4->syft) (1.0.8)\n",
            "Requirement already satisfied: keras-preprocessing>=1.0.5 in /usr/local/lib/python3.6/dist-packages (from tensorflow<2,>=1.12.0->tf-encrypted!=0.5.7,>=0.5.4->syft) (1.1.0)\n",
            "Requirement already satisfied: tensorboard<1.15.0,>=1.14.0 in /usr/local/lib/python3.6/dist-packages (from tensorflow<2,>=1.12.0->tf-encrypted!=0.5.7,>=0.5.4->syft) (1.14.0)\n",
            "Requirement already satisfied: tensorflow-estimator<1.15.0rc0,>=1.14.0rc0 in /usr/local/lib/python3.6/dist-packages (from tensorflow<2,>=1.12.0->tf-encrypted!=0.5.7,>=0.5.4->syft) (1.14.0)\n",
            "Requirement already satisfied: wrapt>=1.11.1 in /usr/local/lib/python3.6/dist-packages (from tensorflow<2,>=1.12.0->tf-encrypted!=0.5.7,>=0.5.4->syft) (1.11.2)\n",
            "Requirement already satisfied: wheel>=0.26 in /usr/local/lib/python3.6/dist-packages (from tensorflow<2,>=1.12.0->tf-encrypted!=0.5.7,>=0.5.4->syft) (0.33.4)\n",
            "Requirement already satisfied: termcolor>=1.1.0 in /usr/local/lib/python3.6/dist-packages (from tensorflow<2,>=1.12.0->tf-encrypted!=0.5.7,>=0.5.4->syft) (1.1.0)\n",
            "Requirement already satisfied: olefile in /usr/local/lib/python3.6/dist-packages (from pillow>=4.1.1->torchvision==0.3.0->syft) (0.46)\n",
            "Requirement already satisfied: setuptools in /usr/local/lib/python3.6/dist-packages (from protobuf>=3.6.1->tensorflow<2,>=1.12.0->tf-encrypted!=0.5.7,>=0.5.4->syft) (41.2.0)\n",
            "Requirement already satisfied: h5py in /usr/local/lib/python3.6/dist-packages (from keras-applications>=1.0.6->tensorflow<2,>=1.12.0->tf-encrypted!=0.5.7,>=0.5.4->syft) (2.8.0)\n",
            "Requirement already satisfied: markdown>=2.6.8 in /usr/local/lib/python3.6/dist-packages (from tensorboard<1.15.0,>=1.14.0->tensorflow<2,>=1.12.0->tf-encrypted!=0.5.7,>=0.5.4->syft) (3.1.1)\n",
            "Building wheels for collected packages: zstd, pyyaml\n",
            "  Building wheel for zstd (setup.py) ... \u001b[?25l\u001b[?25hdone\n",
            "  Created wheel for zstd: filename=zstd-1.4.1.0-cp36-cp36m-linux_x86_64.whl size=1067082 sha256=66952fde45ad8837c90705485f9b7f543e5c318a9f53abb3f24e4d3deb712f74\n",
            "  Stored in directory: /root/.cache/pip/wheels/66/3f/ee/ac08c81af7c1b24a80c746df669ea3cb37542d27877d66ccf4\n",
            "  Building wheel for pyyaml (setup.py) ... \u001b[?25l\u001b[?25hdone\n",
            "  Created wheel for pyyaml: filename=PyYAML-5.1.2-cp36-cp36m-linux_x86_64.whl size=44105 sha256=95d0bcf528fcdc0461223ca0c5fd16c7a16eec1cdd54ddaa75110fbf6d58288a\n",
            "  Stored in directory: /root/.cache/pip/wheels/d9/45/dd/65f0b38450c47cf7e5312883deb97d065e030c5cca0a365030\n",
            "Successfully built zstd pyyaml\n",
            "Installing collected packages: msgpack, python-engineio, python-socketio, flask-socketio, websocket-client, pyyaml, tf-encrypted, websockets, zstd, lz4, syft\n",
            "  Found existing installation: msgpack 0.5.6\n",
            "    Uninstalling msgpack-0.5.6:\n",
            "      Successfully uninstalled msgpack-0.5.6\n",
            "  Found existing installation: PyYAML 3.13\n",
            "    Uninstalling PyYAML-3.13:\n",
            "      Successfully uninstalled PyYAML-3.13\n",
            "Successfully installed flask-socketio-4.2.1 lz4-2.1.10 msgpack-0.6.1 python-engineio-3.9.3 python-socketio-4.3.1 pyyaml-5.1.2 syft-0.1.24a1 tf-encrypted-0.5.8 websocket-client-0.56.0 websockets-8.0.2 zstd-1.4.1.0\n"
          ],
          "name": "stdout"
        },
        {
          "output_type": "display_data",
          "data": {
            "application/vnd.colab-display-data+json": {
              "pip_warning": {
                "packages": [
                  "yaml"
                ]
              }
            }
          },
          "metadata": {
            "tags": []
          }
        }
      ]
    },
    {
      "cell_type": "code",
      "metadata": {
        "id": "ZszwJEprxAcN",
        "colab_type": "code",
        "colab": {
          "base_uri": "https://localhost:8080/",
          "height": 113
        },
        "outputId": "c82466c7-16f2-44ea-998e-c6cc0c782284"
      },
      "source": [
        "import numpy as np\n",
        "import tensorflow as tf\n",
        "from tensorflow.keras.datasets import mnist\n",
        "import syft as sy"
      ],
      "execution_count": 4,
      "outputs": [
        {
          "output_type": "stream",
          "text": [
            "WARNING: Logging before flag parsing goes to stderr.\n",
            "W0826 16:46:49.061327 139877618374528 secure_random.py:26] Falling back to insecure randomness since the required custom op could not be found for the installed version of TensorFlow. Fix this by compiling custom ops. Missing file was '/usr/local/lib/python3.6/dist-packages/tf_encrypted/operations/secure_random/secure_random_module_tf_1.14.0.so'\n",
            "W0826 16:46:49.078113 139877618374528 deprecation_wrapper.py:119] From /usr/local/lib/python3.6/dist-packages/tf_encrypted/session.py:26: The name tf.Session is deprecated. Please use tf.compat.v1.Session instead.\n",
            "\n"
          ],
          "name": "stderr"
        }
      ]
    },
    {
      "cell_type": "code",
      "metadata": {
        "id": "q3biE-zFxAcT",
        "colab_type": "code",
        "colab": {
          "base_uri": "https://localhost:8080/",
          "height": 55
        },
        "outputId": "5e56c47c-fa89-43d8-eba9-bae85df9d4c7"
      },
      "source": [
        "# input image dimensions\n",
        "img_rows, img_cols = 28, 28\n",
        "\n",
        "# the data, split between train and test sets\n",
        "(x_train, y_train), (x_test, y_test) = mnist.load_data()\n",
        "\n",
        "x_train = x_train.reshape(x_train.shape[0], img_rows, img_cols, 1)\n",
        "x_test = x_test.reshape(x_test.shape[0], img_rows, img_cols, 1)\n",
        "input_shape = (img_rows, img_cols, 1)\n",
        "\n",
        "x_train = x_train.astype('float32')\n",
        "x_test = x_test.astype('float32')\n",
        "x_train /= 255\n",
        "x_test /= 255"
      ],
      "execution_count": 5,
      "outputs": [
        {
          "output_type": "stream",
          "text": [
            "Downloading data from https://storage.googleapis.com/tensorflow/tf-keras-datasets/mnist.npz\n",
            "11493376/11490434 [==============================] - 0s 0us/step\n"
          ],
          "name": "stdout"
        }
      ]
    },
    {
      "cell_type": "code",
      "metadata": {
        "id": "n07-QQ7rxAcb",
        "colab_type": "code",
        "colab": {}
      },
      "source": [
        "num_classes = 10\n",
        "input_shape = (1, 28, 28, 1)\n",
        "output_shape = (1, num_classes)"
      ],
      "execution_count": 0,
      "outputs": []
    },
    {
      "cell_type": "code",
      "metadata": {
        "id": "UzQt4mSlxAcf",
        "colab_type": "code",
        "colab": {
          "base_uri": "https://localhost:8080/",
          "height": 208
        },
        "outputId": "49284754-432a-4bb1-802f-4eb247e2e50c"
      },
      "source": [
        "client = sy.TFEWorker()\n",
        "\n",
        "alice = sy.TFEWorker(host='localhost:4000')\n",
        "bob = sy.TFEWorker(host='localhost:4001')\n",
        "carol = sy.TFEWorker(host='localhost:4002')\n",
        "cluster = sy.TFECluster(alice, bob, carol)\n",
        "\n",
        "client.connect_to_model(input_shape, output_shape, cluster)"
      ],
      "execution_count": 7,
      "outputs": [
        {
          "output_type": "stream",
          "text": [
            "W0826 16:48:02.842378 139877618374528 deprecation_wrapper.py:119] From /usr/local/lib/python3.6/dist-packages/tf_encrypted/tensor/native.py:403: The name tf.placeholder is deprecated. Please use tf.compat.v1.placeholder instead.\n",
            "\n",
            "W0826 16:48:02.857806 139877618374528 deprecation_wrapper.py:119] From /usr/local/lib/python3.6/dist-packages/tf_encrypted/config.py:300: The name tf.ConfigProto is deprecated. Please use tf.compat.v1.ConfigProto instead.\n",
            "\n",
            "W0826 16:48:02.860337 139877618374528 deprecation_wrapper.py:119] From /usr/local/lib/python3.6/dist-packages/tf_encrypted/config.py:87: The name tf.GraphOptions is deprecated. Please use tf.compat.v1.GraphOptions instead.\n",
            "\n",
            "I0826 16:48:02.861839 139877618374528 session.py:55] Starting session on target 'grpc://localhost:4000' using config graph_options {\n",
            "}\n",
            "\n"
          ],
          "name": "stderr"
        }
      ]
    },
    {
      "cell_type": "code",
      "metadata": {
        "id": "3I0A3LjexAck",
        "colab_type": "code",
        "colab": {}
      },
      "source": [
        "# User inputs\n",
        "num_tests = 3\n",
        "images, expected_labels = x_test[:num_tests], y_test[:num_tests]"
      ],
      "execution_count": 0,
      "outputs": []
    },
    {
      "cell_type": "code",
      "metadata": {
        "id": "_MjiaB8LxAcp",
        "colab_type": "code",
        "colab": {}
      },
      "source": [
        "for image, expected_label in zip(images, expected_labels):\n",
        "\n",
        "    res = client.query_model(image.reshape(1, 28, 28, 1))\n",
        "    predicted_label = np.argmax(res)\n",
        "\n",
        "    print(\"The image had label {} and was {} classified as {}\".format(\n",
        "        expected_label,\n",
        "        \"correctly\" if expected_label == predicted_label else \"wrongly\",\n",
        "        predicted_label))"
      ],
      "execution_count": 0,
      "outputs": []
    },
    {
      "cell_type": "code",
      "metadata": {
        "id": "hOywI6HCxAct",
        "colab_type": "code",
        "colab": {}
      },
      "source": [
        ""
      ],
      "execution_count": 0,
      "outputs": []
    }
  ]
}